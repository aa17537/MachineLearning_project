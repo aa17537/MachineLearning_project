{
 "cells": [
  {
   "cell_type": "code",
   "execution_count": 3,
   "id": "57c00f91",
   "metadata": {},
   "outputs": [],
   "source": [
    "# general use\n",
    "import os\n",
    "import scipy as sp\n",
    "import pandas as pd\n",
    "import numpy as np\n",
    "import matplotlib.pyplot as plt\n",
    "import seaborn as sns\n",
    "sns.set_theme()\n",
    "from sklearn.model_selection import train_test_split\n",
    "\n",
    "# for evaluation\n",
    "from statistics import mean\n",
    "from sklearn.metrics import accuracy_score, classification_report, confusion_matrix, precision_score\n",
    "\n",
    "\n",
    "# for current method\n",
    "from sklearn.linear_model import LogisticRegression\n"
   ]
  },
  {
   "cell_type": "code",
   "execution_count": 4,
   "id": "5d0126e2",
   "metadata": {},
   "outputs": [
    {
     "name": "stdout",
     "output_type": "stream",
     "text": [
      "[Default] Number of train data: 1039, Number of test data: 387\n"
     ]
    }
   ],
   "source": [
    "data_dirpath = 'dataset'\n",
    "train_name = 'train.csv'\n",
    "test_name = 'test.csv'\n",
    "\n",
    "train_path = os.path.join(data_dirpath, train_name)\n",
    "test_path = os.path.join(data_dirpath, test_name)\n",
    "train_df = pd.read_csv(train_path, header=[0])\n",
    "test_df = pd.read_csv(test_path, header=[0])\n",
    "\n",
    "print(f'[Default] Number of train data: {train_df.shape[0]}, Number of test data: {test_df.shape[0]}')\n",
    "\n",
    "\n",
    "lead_map = {'Female': 0, 'Male': 1}\n",
    "train_df['Lead'] = train_df['Lead'].map(lead_map).astype(int)\n",
    "\n",
    "x_data=train_df.loc[:, train_df.columns != 'Lead']\n",
    "y_data=train_df['Lead']\n",
    "\n",
    "feature_names = x_data.columns.tolist()"
   ]
  },
  {
   "cell_type": "code",
   "execution_count": 5,
   "id": "f7ae257d",
   "metadata": {
    "scrolled": true
   },
   "outputs": [],
   "source": [
    "# for cross vaidation\n",
    "# X_train, X_test, y_train, y_test \n",
    "X_train1, X_test1, y_train1, y_test1 = train_test_split(x_data, y_data, test_size=0.2, random_state=0)\n",
    "X_train2, X_test2, y_train2, y_test2 = train_test_split(x_data, y_data, test_size=0.2, random_state=1)\n",
    "X_train3, X_test3, y_train3, y_test3 = train_test_split(x_data, y_data, test_size=0.2, random_state=2)\n",
    "X_train4, X_test4, y_train4, y_test4 = train_test_split(x_data, y_data, test_size=0.2, random_state=3)\n",
    "X_train5, X_test5, y_train5, y_test5 = train_test_split(x_data, y_data, test_size=0.2, random_state=4)\n",
    "\n",
    "X_trainset = (X_train1, X_train2, X_train3, X_train4, X_train5)\n",
    "X_testset = (X_test1, X_test2, X_test3, X_test4, X_test5)\n",
    "y_trainset = (y_train1, y_train2, y_train3, y_train4, y_train5)\n",
    "y_testset = (y_test1, y_test2, y_test3, y_test4, y_test5)\n"
   ]
  },
  {
   "cell_type": "code",
   "execution_count": null,
   "id": "9cfe0628",
   "metadata": {},
   "outputs": [],
   "source": []
  }
 ],
 "metadata": {
  "kernelspec": {
   "display_name": "Python 3 (ipykernel)",
   "language": "python",
   "name": "python3"
  },
  "language_info": {
   "codemirror_mode": {
    "name": "ipython",
    "version": 3
   },
   "file_extension": ".py",
   "mimetype": "text/x-python",
   "name": "python",
   "nbconvert_exporter": "python",
   "pygments_lexer": "ipython3",
   "version": "3.8.12"
  }
 },
 "nbformat": 4,
 "nbformat_minor": 5
}
