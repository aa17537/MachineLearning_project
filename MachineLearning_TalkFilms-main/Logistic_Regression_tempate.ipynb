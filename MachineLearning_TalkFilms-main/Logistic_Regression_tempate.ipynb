{
 "cells": [
  {
   "cell_type": "code",
   "execution_count": 13,
   "id": "57c00f91",
   "metadata": {},
   "outputs": [],
   "source": [
    "# general use\n",
    "import os\n",
    "import scipy as sp\n",
    "import pandas as pd\n",
    "import numpy as np\n",
    "import matplotlib.pyplot as plt\n",
    "import seaborn as sns\n",
    "sns.set_theme()\n",
    "from sklearn.model_selection import train_test_split\n",
    "\n",
    "# for evaluation\n",
    "from statistics import mean\n",
    "from sklearn.metrics import accuracy_score, classification_report, confusion_matrix, precision_score\n",
    "\n",
    "\n",
    "# for current method\n",
    "from sklearn.linear_model import LogisticRegression\n"
   ]
  },
  {
   "cell_type": "code",
   "execution_count": 14,
   "id": "5d0126e2",
   "metadata": {},
   "outputs": [
    {
     "name": "stdout",
     "output_type": "stream",
     "text": [
      "[Default] Number of train data: 1039, Number of test data: 387\n"
     ]
    }
   ],
   "source": [
    "data_dirpath = 'dataset'\n",
    "train_name = 'train.csv'\n",
    "test_name = 'test.csv'\n",
    "\n",
    "train_path = os.path.join(data_dirpath, train_name)\n",
    "test_path = os.path.join(data_dirpath, test_name)\n",
    "train_df = pd.read_csv(train_path, header=[0])\n",
    "test_df = pd.read_csv(test_path, header=[0])\n",
    "\n",
    "print(f'[Default] Number of train data: {train_df.shape[0]}, Number of test data: {test_df.shape[0]}')\n",
    "\n",
    "\n",
    "lead_map = {'Female': 0, 'Male': 1}\n",
    "train_df['Lead'] = train_df['Lead'].map(lead_map).astype(int)\n",
    "\n",
    "x_data=train_df.loc[:, train_df.columns != 'Lead']\n",
    "y_data=train_df['Lead']\n",
    "\n",
    "feature_names = x_data.columns.tolist()"
   ]
  },
  {
   "cell_type": "code",
   "execution_count": 15,
   "id": "f7ae257d",
   "metadata": {
    "scrolled": true
   },
   "outputs": [],
   "source": [
    "# for cross vaidation\n",
    "# X_train, X_test, y_train, y_test \n",
    "X_train1, X_test1, y_train1, y_test1 = train_test_split(x_data, y_data, test_size=0.2, random_state=0)\n",
    "X_train2, X_test2, y_train2, y_test2 = train_test_split(x_data, y_data, test_size=0.2, random_state=1)\n",
    "X_train3, X_test3, y_train3, y_test3 = train_test_split(x_data, y_data, test_size=0.2, random_state=2)\n",
    "X_train4, X_test4, y_train4, y_test4 = train_test_split(x_data, y_data, test_size=0.2, random_state=3)\n",
    "X_train5, X_test5, y_train5, y_test5 = train_test_split(x_data, y_data, test_size=0.2, random_state=4)\n",
    "\n",
    "X_trainset = (X_train1, X_train2, X_train3, X_train4, X_train5)\n",
    "X_testset = (X_test1, X_test2, X_test3, X_test4, X_test5)\n",
    "y_trainset = (y_train1, y_train2, y_train3, y_train4, y_train5)\n",
    "y_testset = (y_test1, y_test2, y_test3, y_test4, y_test5)\n"
   ]
  },
  {
   "cell_type": "code",
   "execution_count": 40,
   "id": "9cfe0628",
   "metadata": {},
   "outputs": [],
   "source": [
    "def logistic_model(cross_valid, X_train, X_test, y_train, y_test):\n",
    "    model = LogisticRegression(random_state=0, solver='lbfgs', max_iter=1300)\n",
    "\n",
    "    y_pred = model.predict(X_test)\n",
    "    accuracy = accuracy_score(y_test, y_pred)\n",
    "    \n",
    "    return model, accuracy"
   ]
  },
  {
   "cell_type": "code",
   "execution_count": 41,
   "id": "663c9bb0",
   "metadata": {},
   "outputs": [
    {
     "name": "stdout",
     "output_type": "stream",
     "text": [
      "----idx_dataset=1-----\n",
      "----idx_dataset=2-----\n",
      "----idx_dataset=3-----\n",
      "----idx_dataset=4-----\n",
      "----idx_dataset=5-----\n",
      "Mean accuracy for 5 models: 0.865\n",
      "=======\n"
     ]
    },
    {
     "data": {
      "text/plain": [
       "<Figure size 1080x2880 with 0 Axes>"
      ]
     },
     "metadata": {},
     "output_type": "display_data"
    }
   ],
   "source": [
    "cross_valid = 0\n",
    "# learning_rate = 0.2\n",
    "# n_estimators = 700\n",
    "# max_depths=[1, 2, 3, 4, 5, 6]\n",
    "# max_depths=[1, 2, 3, 4, 5, 6, 7, 8, 9, 10]\n",
    "accuracy_list = []\n",
    "imp_list = []\n",
    "\n",
    "# Now create a figure\n",
    "sub_row = 6\n",
    "sub_col = 1\n",
    "f = plt.figure(figsize=(15,40))\n",
    "\n",
    "\n",
    "# test the whole set\n",
    "for idx_dataset, (X_train, X_test, y_train, y_test) in enumerate(zip(X_trainset, X_testset, y_trainset, y_testset)):\n",
    "    cross_valid += 1\n",
    "    _, acc = logistic_model(cross_valid, X_train, X_test, y_train, y_test)\n",
    "    accuracy_list.append(acc)\n",
    "    \n",
    "    print(f'----idx_dataset={idx_dataset+1}-----')\n",
    "\n",
    "\n",
    "mean_acc = mean(accuracy_list)\n",
    "\n",
    "print(f'Mean accuracy for {len(accuracy_list)} models: {mean_acc:.3f}')\n",
    "print('=======')\n",
    "    "
   ]
  },
  {
   "cell_type": "code",
   "execution_count": 32,
   "id": "948f7742",
   "metadata": {},
   "outputs": [
    {
     "data": {
      "text/plain": [
       "831"
      ]
     },
     "execution_count": 32,
     "metadata": {},
     "output_type": "execute_result"
    }
   ],
   "source": [
    "len(X_train_probability_class_1)"
   ]
  },
  {
   "cell_type": "code",
   "execution_count": null,
   "id": "07154a51",
   "metadata": {},
   "outputs": [],
   "source": []
  }
 ],
 "metadata": {
  "kernelspec": {
   "display_name": "Python 3 (ipykernel)",
   "language": "python",
   "name": "python3"
  },
  "language_info": {
   "codemirror_mode": {
    "name": "ipython",
    "version": 3
   },
   "file_extension": ".py",
   "mimetype": "text/x-python",
   "name": "python",
   "nbconvert_exporter": "python",
   "pygments_lexer": "ipython3",
   "version": "3.8.12"
  }
 },
 "nbformat": 4,
 "nbformat_minor": 5
}
